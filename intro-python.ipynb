{
 "cells": [
  {
   "cell_type": "markdown",
   "metadata": {},
   "source": [
    "<div style=\"text-align: center\"><img src=\"https://www.python.org/static/img/python-logo.png\"></div>"
   ]
  },
  {
   "cell_type": "markdown",
   "metadata": {},
   "source": [
    "# Uma introdução informal ao Python\n",
    "\n",
    "O Python é uma linguagem de programação popular, confiável, flexível, fácil de aprender, gratuita para uso em todos os sistemas operacionais e suportada por uma forte comunidade de desenvolvedores e por muitas bibliotecas gratuitas. O Python suporta todas as maneiras de desenvolvimento, incluindo aplicativos da Web, serviços da Web, aplicativos de desktop, scripts, ciência de dados, computação científica e cadernos Jupyter. Python é uma linguagem usada por muitas universidades, cientistas, desenvolvedores casuais e desenvolvedores profissionais.\n",
    "\n",
    "Você pode aprender mais sobre o idioma em [python.org](https://www.python.org/) e [Python para iniciantes](https://www.python.org/about/gettingstarted/).\n",
    "\n",
    "Este passo a passo é uma versão do caderno Jupyter do [tutorial introdutório do python.org](https://docs.python.org/3.5/tutorial/introduction.html), com algumas edições e alterações. Como todo o código está dentro das células de código, você pode simplesmente executar cada célula de código em linha, em vez de usar uma janela interativa separada do Python.\n",
    "\n",
    "Esta introdução foi escrita para o Python 3.6.7, mas geralmente é aplicável a outras versões do Python 3.x.\n",
    "\n",
    "O material original é Copyright (c) 2001-2018 Python Software Foundation.\n",
    "\n",
    "> **Nota**: Este notebook foi projetado para executar as células de código uma a uma e várias células de código contêm erros deliberados para fins de demonstração. Como resultado, se você usar o comando **Cell**>**Run All**, algumas células de código após o erro não serão executadas. Para continuar executando o código em cada caso, use **Cell**>**Run all below** da célula após o erro."
   ]
  },
  {
   "cell_type": "markdown",
   "metadata": {},
   "source": [
    "## Comentários\n",
    "\n",
    "\n",
    "Muitos dos exemplos deste caderno incluem comentários. Os comentários no Python começam com o caractere de hash, `#`, e se estendem até o final da linha física. Um comentário pode aparecer no início de uma linha ou após um espaço em branco ou código, mas não dentro de uma string literal. Um caractere de hash em uma string literal é apenas um caractere de hash. Como os comentários devem esclarecer o código e não são interpretados pelo Python, eles podem ser omitidos ao digitar exemplos.\n",
    "\n",
    "Alguns exemplos:"
   ]
  },
  {
   "cell_type": "code",
   "execution_count": null,
   "metadata": {},
   "outputs": [],
   "source": [
    "# isto é um comentário de linha única\n",
    "spam = 1  # este é outro comentário\n",
    "          # ... e mais um!\n",
    "text = \"# Isto não é um comentário, pois está entre aspas duplas\"\n",
    "'''\n",
    "Este é um comentário especial de linhas múltiplas, também usado\n",
    "para documentar o programa, quando é chamada de docstring. \n",
    "Veja em https://www.python.org/dev/peps/pep-0257/\n",
    "'''\n",
    "print(text)"
   ]
  },
  {
   "cell_type": "markdown",
   "metadata": {},
   "source": [
    "## Explorando tipos básicos de dados\n",
    "\n",
    "Vamos tentar alguns comandos simples de Python, para explorar números, strings e listas."
   ]
  },
  {
   "cell_type": "markdown",
   "metadata": {},
   "source": [
    "### Números\n",
    "\n",
    "O interpretador do Python pode agir como uma simples calculadora: digite uma expressão e ele retornará seu valor.\n",
    "\n",
    "A sintaxe da expressão é simples: os operadores `+`, `-`, `*` e `/` funcionam como na maioria das linguagens de programação (como C ou Java); parênteses (`()`) podem ser usados para agrupamentos ou precedência. Por exemplo:"
   ]
  },
  {
   "cell_type": "code",
   "execution_count": null,
   "metadata": {},
   "outputs": [],
   "source": [
    "2 + 2"
   ]
  },
  {
   "cell_type": "code",
   "execution_count": null,
   "metadata": {},
   "outputs": [],
   "source": [
    "50 - 5*6"
   ]
  },
  {
   "cell_type": "code",
   "execution_count": null,
   "metadata": {},
   "outputs": [],
   "source": [
    "(50 - 5*6) / 4"
   ]
  },
  {
   "cell_type": "code",
   "execution_count": null,
   "metadata": {},
   "outputs": [],
   "source": [
    "8 / 5  # A divisão SEMPRE retorna um float"
   ]
  },
  {
   "cell_type": "markdown",
   "metadata": {},
   "source": [
    "Números inteiros (por exemplo, `2`,` 4`, `20`) têm o tipo [` int`](https://docs.python.org/3.5/library/functions.html#int), aqueles com um parte fracionária (por exemplo, `5.0`,` 1.6`) tem o tipo [`float`](https://docs.python.org/3.5/library/functions.html#float). Veremos mais sobre tipos numéricos posteriormente neste tutorial.\n",
    "\n",
    "A divisão (`/`) sempre retorna um ponto flutuante. Para fazer [divisão de piso](https://docs.python.org/3.5/glossary.html#term-floor-division) e obter um resultado inteiro (descartando qualquer resultado fracionário), você pode usar o operador `//`; para calcular o resto (módulo), você pode usar `%`:"
   ]
  },
  {
   "cell_type": "code",
   "execution_count": null,
   "metadata": {},
   "outputs": [],
   "source": [
    "17 / 3  # Divisão normal retorna um float"
   ]
  },
  {
   "cell_type": "code",
   "execution_count": null,
   "metadata": {},
   "outputs": [],
   "source": [
    "17 // 3  # Divisão inteira retorna apenas a parte inteira"
   ]
  },
  {
   "cell_type": "code",
   "execution_count": null,
   "metadata": {},
   "outputs": [],
   "source": [
    "17 % 3  # O operador módulo '%' retorna o resto da divisão inteira"
   ]
  },
  {
   "cell_type": "code",
   "execution_count": null,
   "metadata": {},
   "outputs": [],
   "source": [
    "5 * 3 + 2  # result * divisor + remainder"
   ]
  },
  {
   "cell_type": "markdown",
   "metadata": {},
   "source": [
    "Use `**` para calcular potências:"
   ]
  },
  {
   "cell_type": "code",
   "execution_count": null,
   "metadata": {},
   "outputs": [],
   "source": [
    "5 ** 2  # 5 ao quadrado"
   ]
  },
  {
   "cell_type": "code",
   "execution_count": null,
   "metadata": {},
   "outputs": [],
   "source": [
    "2 ** 7  # 2 a 7ª potência"
   ]
  },
  {
   "cell_type": "markdown",
   "metadata": {},
   "source": [
    "`**` tem precedência maior que `-` (negtivo); se você quer uma base negativa, use parênteses:"
   ]
  },
  {
   "cell_type": "code",
   "execution_count": null,
   "metadata": {},
   "outputs": [],
   "source": [
    "-3**2  # Mesmo que -(3**2)"
   ]
  },
  {
   "cell_type": "code",
   "execution_count": null,
   "metadata": {},
   "outputs": [],
   "source": [
    "(-3)**2"
   ]
  },
  {
   "cell_type": "markdown",
   "metadata": {},
   "source": [
    "O sinal de igual (`=`) atribui valor a uma variável:"
   ]
  },
  {
   "cell_type": "code",
   "execution_count": null,
   "metadata": {},
   "outputs": [],
   "source": [
    "largura = 20\n",
    "altura = 5 * 90\n",
    "largura * altura"
   ]
  },
  {
   "cell_type": "markdown",
   "metadata": {},
   "source": [
    "Se uma variável não está definida, isto é, não possui valor atribuído, produz um erro ao tentar usá-la:error:"
   ]
  },
  {
   "cell_type": "code",
   "execution_count": null,
   "metadata": {},
   "outputs": [],
   "source": [
    "n  # Tentando acessar uma variável indefinida."
   ]
  },
  {
   "cell_type": "markdown",
   "metadata": {},
   "source": [
    "O Python fornece algumas informações sobre o erro, o que é útil para resolvê-los."
   ]
  },
  {
   "cell_type": "markdown",
   "metadata": {},
   "source": [
    "Python tem suporte total a números de ponto flutuante; operações com floats e ints convertem os inteiros para ponto flutuante:"
   ]
  },
  {
   "cell_type": "code",
   "execution_count": null,
   "metadata": {},
   "outputs": [],
   "source": [
    "3 * 3.75 / 1.5"
   ]
  },
  {
   "cell_type": "code",
   "execution_count": null,
   "metadata": {},
   "outputs": [],
   "source": [
    "7.0 / 2"
   ]
  },
  {
   "cell_type": "markdown",
   "metadata": {},
   "source": [
    "No modo interativo e nos cadernos Jupyter, a última expressão impressa é atribuída à variável `_`. Isso significa que, quando você estiver usando o Python como uma calculadora de mesa, é um pouco mais fácil continuar os cálculos. Por exemplo:"
   ]
  },
  {
   "cell_type": "code",
   "execution_count": null,
   "metadata": {},
   "outputs": [],
   "source": [
    "taxa = 12.5 / 100\n",
    "preço = 100.50 # Em um sistema com suporte a unicode, você pode usar caracteres 'especiais'\n",
    "preço * taxa"
   ]
  },
  {
   "cell_type": "code",
   "execution_count": null,
   "metadata": {},
   "outputs": [],
   "source": [
    "preço + _"
   ]
  },
  {
   "cell_type": "code",
   "execution_count": null,
   "metadata": {},
   "outputs": [],
   "source": [
    "round(_, 2) # round é uma função"
   ]
  },
  {
   "cell_type": "markdown",
   "metadata": {},
   "source": [
    "Trate a variável `_` como somente leitura. Não atribua explicitamente um valor a ele - isso cria uma variável local independente com o mesmo nome, mascarando a variável interna com seu comportamento mágico.\n",
    "\n",
    "Além de `int` e` float`, o Python suporta outros tipos de números, como [`Decimal`](https://docs.python.org/3.5/library/decimal.html#decimal.Decimal) e [ `Fraction`](https://docs.python.org/3.5/library/fractions.html#fractions.Fraction). O Python também tem suporte embutido para [números complexos](https://docs.python.org/3.5/library/stdtypes.html#typesnumeric) e usa o sufixo `j` ou` J` para indicar a parte imaginária (por exemplo, `3 + 5j`)."
   ]
  },
  {
   "cell_type": "markdown",
   "metadata": {},
   "source": [
    "Agora tente você. Na célula abaixo, escreva um pequeno programa para calcular o Índice de Massa Corporal (IMC) de uma pessoa. A fórmula do IMC é:\n",
    "\n",
    "$ IMC = peso \\times altura^2 $"
   ]
  },
  {
   "cell_type": "code",
   "execution_count": null,
   "metadata": {},
   "outputs": [],
   "source": []
  },
  {
   "cell_type": "markdown",
   "metadata": {},
   "source": [
    "### Strings"
   ]
  },
  {
   "cell_type": "markdown",
   "metadata": {},
   "source": [
    "Além de números, o Python também pode manipular strings. As strings podem ser colocadas entre aspas simples (`'...'`) ou aspas duplas (`\" ... \"`) com o mesmo resultado. Use `\\` para escapar aspas, ou seja, para usar uma aspas dentro da própria string:"
   ]
  },
  {
   "cell_type": "code",
   "execution_count": null,
   "metadata": {},
   "outputs": [],
   "source": [
    "'hora tardia'  # Aspas simples."
   ]
  },
  {
   "cell_type": "code",
   "execution_count": null,
   "metadata": {},
   "outputs": [],
   "source": [
    "'copo d\\'água'  # Use \\' para escapar uma aspa simples entre aspas simples..."
   ]
  },
  {
   "cell_type": "code",
   "execution_count": null,
   "metadata": {},
   "outputs": [],
   "source": [
    "\"copo d'água\"  # ... ou use a aspa simples entre aspas duplas."
   ]
  },
  {
   "cell_type": "code",
   "execution_count": null,
   "metadata": {},
   "outputs": [],
   "source": [
    "'\"Sim,\" disse ele.' # O contrário também se aplica."
   ]
  },
  {
   "cell_type": "code",
   "execution_count": null,
   "metadata": {},
   "outputs": [],
   "source": [
    "\"\\\"Sim,\\\" disse ele.\""
   ]
  },
  {
   "cell_type": "code",
   "execution_count": null,
   "metadata": {},
   "outputs": [],
   "source": [
    "'\"Um copo d\\'água,\" disse ela.'"
   ]
  },
  {
   "cell_type": "markdown",
   "metadata": {},
   "source": [
    "No interpretador interativo e nos cadernos Jupyter, a string de saída é colocada entre aspas e caracteres especiais são escapados com barras invertidas. Embora essa saída às vezes pareça diferente da entrada (as aspas anexas podem mudar), as duas sequências são equivalentes. A sequência é colocada entre aspas duplas se contiver uma aspas simples e sem aspas duplas, caso contrário, será delimitada por aspas simples. A função [`print ()`](https://docs.python.org/3.6/library/functions.html#print) produz uma saída mais legível, omitindo as aspas anexas e imprimindo caracteres especiais e de escape:"
   ]
  },
  {
   "cell_type": "code",
   "execution_count": null,
   "metadata": {},
   "outputs": [],
   "source": [
    "'\"Um copo d\\'água,\" disse ela.'"
   ]
  },
  {
   "cell_type": "code",
   "execution_count": null,
   "metadata": {},
   "outputs": [],
   "source": [
    "print('\"Um copo d\\'água,\" disse ela.')"
   ]
  },
  {
   "cell_type": "code",
   "execution_count": null,
   "metadata": {},
   "outputs": [],
   "source": [
    "s = 'Primeira linha.\\nSegunda linha.'  # \\n significa quebra de linha.\n",
    "s  # Sem print(), \\n é incluído na saída."
   ]
  },
  {
   "cell_type": "code",
   "execution_count": null,
   "metadata": {},
   "outputs": [],
   "source": [
    "print(s)  # Usando a função print(), \\n produz a quebra de linha."
   ]
  },
  {
   "cell_type": "markdown",
   "metadata": {},
   "source": [
    "Se você não quiser que um caractere especial (precedido por `\\`) seja interpretado desta forma, use uma *raw string*, adicionando `r` antes da primeira aspa:"
   ]
  },
  {
   "cell_type": "code",
   "execution_count": null,
   "metadata": {},
   "outputs": [],
   "source": [
    "print('C:\\algum\\nome')  # Aqui, \\a gera um caractere unicode e \\n é interpretado como quebra de linha!"
   ]
  },
  {
   "cell_type": "code",
   "execution_count": null,
   "metadata": {},
   "outputs": [],
   "source": [
    "print(r'C:\\algum\\nome')  # Note o r antes da aspa."
   ]
  },
  {
   "cell_type": "markdown",
   "metadata": {},
   "source": [
    "As strings literais podem abranger várias linhas e são delineados por aspas triplas: `\"\"\" ... \"\"\"` ou `'''...'''`. O fim das linhas é incluído automaticamente na string, mas é possível evitar isso adicionando um `\\` no final da linha. Por exemplo, sem um `\\`, o exemplo a seguir inclui uma linha extra no início da saída:"
   ]
  },
  {
   "cell_type": "code",
   "execution_count": null,
   "metadata": {},
   "outputs": [],
   "source": [
    "print(\"\"\"\n",
    "Uso: thingy [OPTIONS]\n",
    "     -h                        Mostra esta mensagem\n",
    "     -H hostname               Hostname para se conectar\n",
    "\"\"\")"
   ]
  },
  {
   "cell_type": "markdown",
   "metadata": {},
   "source": [
    "Adicionar  uma `\\` remove a linha extra no início:"
   ]
  },
  {
   "cell_type": "code",
   "execution_count": null,
   "metadata": {},
   "outputs": [],
   "source": [
    "print(\"\"\"\\\n",
    "Uso: thingy [OPTIONS]\n",
    "     -h                        Mostra esta mensagem\n",
    "     -H hostname               Hostname para se conectar\n",
    "\"\"\")"
   ]
  },
  {
   "cell_type": "markdown",
   "metadata": {},
   "source": [
    "Como o Python não fornece um meio para criar comentários de várias linhas, os desenvolvedores costumam usar aspas triplas para esse fim. Em um bloco de anotações Jupyter, no entanto, essas aspas definem uma string literal que aparece como a saída de uma célula de código:"
   ]
  },
  {
   "cell_type": "code",
   "execution_count": null,
   "metadata": {},
   "outputs": [],
   "source": [
    "\"\"\"\n",
    "Tudo entre as três primeiras aspas, incluindo novas linhas,\n",
    "faz parte do comentário de várias linhas. Tecnicamente, o interpretador Python\n",
    "simplesmente vê o comentário como uma string e porque ela não é\n",
    "usada no código de outra forma, a string é ignorada. Conveniente, não?\n",
    "\"\"\""
   ]
  },
  {
   "cell_type": "markdown",
   "metadata": {},
   "source": [
    "Por esse motivo, é melhor usar o caractere de comentário `#` nos cadernos, no início de cada linha, ou melhor ainda, basta usar uma célula de Markdown!"
   ]
  },
  {
   "cell_type": "markdown",
   "metadata": {},
   "source": [
    "As strings podem ser *concatenadas* (coladas) com o operador `+` e repetidas com `*`:"
   ]
  },
  {
   "cell_type": "code",
   "execution_count": null,
   "metadata": {},
   "outputs": [],
   "source": [
    "# 3 vezes 'un', seguido de 'ium'\n",
    "3 * 'un' + 'ium'"
   ]
  },
  {
   "cell_type": "markdown",
   "metadata": {},
   "source": [
    "Duas ou mais *string literais* (ou seja, os valores entre aspas) colocadas uma ao lado da outra são automaticamente concatenadas:"
   ]
  },
  {
   "cell_type": "code",
   "execution_count": null,
   "metadata": {},
   "outputs": [],
   "source": [
    "'Py' 'thon'"
   ]
  },
  {
   "cell_type": "markdown",
   "metadata": {},
   "source": [
    "A concatenação automática funciona apenas com dois literais; Como não funciona com variáveis ou expressões, a célula a seguir produz um erro:"
   ]
  },
  {
   "cell_type": "code",
   "execution_count": null,
   "metadata": {},
   "outputs": [],
   "source": [
    "prefix = 'Py'\n",
    "prefix 'thon'  # Não é possível concatenar automaticamente uma variável e uma string literal."
   ]
  },
  {
   "cell_type": "markdown",
   "metadata": {},
   "source": [
    "Tentar concatenar expressões também resulta em erro:"
   ]
  },
  {
   "cell_type": "code",
   "execution_count": null,
   "metadata": {},
   "outputs": [],
   "source": [
    "('un' * 3) 'ium'"
   ]
  },
  {
   "cell_type": "markdown",
   "metadata": {},
   "source": [
    "Para concatenar variávels de string ou variáveis e literais, use `+`:"
   ]
  },
  {
   "cell_type": "code",
   "execution_count": null,
   "metadata": {},
   "outputs": [],
   "source": [
    "prefix = 'Py'\n",
    "prefix + 'thon'"
   ]
  },
  {
   "cell_type": "markdown",
   "metadata": {},
   "source": [
    "A concatenação automática é particularmente útil quando você deseja dividir cadeias longas:"
   ]
  },
  {
   "cell_type": "code",
   "execution_count": null,
   "metadata": {},
   "outputs": [],
   "source": [
    "text = ('Coloque várias strings entre parênteses '\n",
    "            'para tê-las unidos.')\n",
    "text"
   ]
  },
  {
   "cell_type": "markdown",
   "metadata": {},
   "source": [
    "As strings podem ser *indexadas* (subscritas), com o primeiro caractere tendo o índice 0. Não há um tipo de caractere separado; um caractere é simplesmente uma string de tamanho um:"
   ]
  },
  {
   "cell_type": "code",
   "execution_count": null,
   "metadata": {},
   "outputs": [],
   "source": [
    "word = 'Python'\n",
    "word[0]  # Caracter na posição 0."
   ]
  },
  {
   "cell_type": "code",
   "execution_count": null,
   "metadata": {},
   "outputs": [],
   "source": [
    "word[5]  # Caracter na posição 5."
   ]
  },
  {
   "cell_type": "markdown",
   "metadata": {},
   "source": [
    "Os índices também podem ser números negativos, o que significa começar a contar a partir do final da sequência. Observe que, como -0 é o mesmo que 0, os índices negativos começam em -1:"
   ]
  },
  {
   "cell_type": "code",
   "execution_count": null,
   "metadata": {},
   "outputs": [],
   "source": [
    "word[-1]  # Último caracter."
   ]
  },
  {
   "cell_type": "code",
   "execution_count": null,
   "metadata": {},
   "outputs": [],
   "source": [
    "word[-2]  # Penúltimo caracter."
   ]
  },
  {
   "cell_type": "code",
   "execution_count": null,
   "metadata": {},
   "outputs": [],
   "source": [
    "word[-6]"
   ]
  },
  {
   "cell_type": "markdown",
   "metadata": {},
   "source": [
    "Além da indexação, que extrai caracteres individuais, o Python também suporta *fatiamento*, que extrai uma substring. Para fatiar, você indica um *intervalo* no formato `[start:end)`, onde a posição inicial está incluída, mas a posição final é excluída:"
   ]
  },
  {
   "cell_type": "code",
   "execution_count": null,
   "metadata": {},
   "outputs": [],
   "source": [
    "word[0:2]  # Caracteres da posição 0 (incluso) a 2 (excluído)."
   ]
  },
  {
   "cell_type": "code",
   "execution_count": null,
   "metadata": {},
   "outputs": [],
   "source": [
    "word[2:5]"
   ]
  },
  {
   "cell_type": "markdown",
   "metadata": {},
   "source": [
    "Se você omitir uma das posições, a posição inicial padrão será 0 e o final padrão será o comprimento da sequência:"
   ]
  },
  {
   "cell_type": "code",
   "execution_count": null,
   "metadata": {},
   "outputs": [],
   "source": [
    "word[:2]   # Caracteres do início até a posição 2 (excluído)."
   ]
  },
  {
   "cell_type": "code",
   "execution_count": null,
   "metadata": {},
   "outputs": [],
   "source": [
    "word[4:]  # Caracteres da posição 4 (inclusa) até o final."
   ]
  },
  {
   "cell_type": "code",
   "execution_count": null,
   "metadata": {},
   "outputs": [],
   "source": [
    "word[-2:] # Do penúltimo até o fim"
   ]
  },
  {
   "cell_type": "markdown",
   "metadata": {},
   "source": [
    "Esta característica significa que `s [:i] + s [i:]` é sempre igual a `s`:"
   ]
  },
  {
   "cell_type": "code",
   "execution_count": null,
   "metadata": {},
   "outputs": [],
   "source": [
    "word[:2] + word[2:]"
   ]
  },
  {
   "cell_type": "code",
   "execution_count": null,
   "metadata": {},
   "outputs": [],
   "source": [
    "word[:4] + word[4:]"
   ]
  },
  {
   "cell_type": "markdown",
   "metadata": {},
   "source": [
    "Uma maneira de lembrar como as fatias funcionam é pensar nos índices como apontando entre os caracteres, com a borda esquerda do primeiro caractere numerado 0. Em seguida, a borda direita do último caractere de uma seqüência de caracteres *n* possui o índice *n* . Por exemplo:"
   ]
  },
  {
   "cell_type": "raw",
   "metadata": {},
   "source": [
    " +---+---+---+---+---+---+\n",
    " | P | y | t | h | o | n |\n",
    " +---+---+---+---+---+---+\n",
    " 0   1   2   3   4   5   6\n",
    "-6  -5  -4  -3  -2  -1"
   ]
  },
  {
   "cell_type": "markdown",
   "metadata": {},
   "source": [
    "A primeira linha de números fornece a posição dos índices 0 ... 6 na string; a segunda linha fornece os índices negativos correspondentes. A fatia de *i* a *j* consiste em todos os caracteres entre as arestas rotuladas *i* e *j*, respectivamente.\n",
    "\n",
    "Para índices não negativos, o comprimento de uma fatia é a diferença dos índices, se ambos estiverem dentro dos limites. Por exemplo, o comprimento de `word[1: 3]` é 2.\n",
    "\n",
    "Tentar usar um índice maior que o tamanho da string resulta em um erro:"
   ]
  },
  {
   "cell_type": "code",
   "execution_count": null,
   "metadata": {},
   "outputs": [],
   "source": [
    "word[42]  # 6 caracteres!."
   ]
  },
  {
   "cell_type": "markdown",
   "metadata": {},
   "source": [
    "No entanto, quando usado em um intervalo, um índice que é muito grande padroniza o tamanho da sequência e não gera um erro. Essa característica é útil quando você sempre deseja fatiar em um índice específico, independentemente do comprimento de uma sequência:"
   ]
  },
  {
   "cell_type": "code",
   "execution_count": null,
   "metadata": {},
   "outputs": [],
   "source": [
    "word[4:42]"
   ]
  },
  {
   "cell_type": "code",
   "execution_count": null,
   "metadata": {},
   "outputs": [],
   "source": [
    "word[42:]"
   ]
  },
  {
   "cell_type": "markdown",
   "metadata": {},
   "source": [
    "As strings Python são [imutáveis](https://docs.python.org/3.5/glossary.html#term-immutable), o que significa que elas não podem ser alteradas. Portanto, atribuir um valor a uma posição indexada em uma sequência resulta em um erro:"
   ]
  },
  {
   "cell_type": "code",
   "execution_count": null,
   "metadata": {},
   "outputs": [],
   "source": [
    "word[0] = 'J'"
   ]
  },
  {
   "cell_type": "markdown",
   "metadata": {},
   "source": [
    "A próxima célula também resulta em erro:"
   ]
  },
  {
   "cell_type": "code",
   "execution_count": null,
   "metadata": {},
   "outputs": [],
   "source": [
    "word[2:] = 'py'"
   ]
  },
  {
   "cell_type": "markdown",
   "metadata": {},
   "source": [
    "Uma fatia é uma variável string que você pode concatenar com outras strings usando `+`:"
   ]
  },
  {
   "cell_type": "code",
   "execution_count": null,
   "metadata": {},
   "outputs": [],
   "source": [
    "'J' + word[1:]"
   ]
  },
  {
   "cell_type": "code",
   "execution_count": null,
   "metadata": {},
   "outputs": [],
   "source": [
    "word[:2] + 'Py'"
   ]
  },
  {
   "cell_type": "markdown",
   "metadata": {},
   "source": [
    "Uma fatia, no entanto, não é uma string literal e não pode ser usada com concatenação automática. O código a seguir produz um erro:"
   ]
  },
  {
   "cell_type": "code",
   "execution_count": null,
   "metadata": {},
   "outputs": [],
   "source": [
    "word[:2] 'Py'    # Fatia não é literal; produz um erro"
   ]
  },
  {
   "cell_type": "markdown",
   "metadata": {},
   "source": [
    "A função interna [`len ()`](https://docs.python.org/3.5/library/functions.html#len) retorna o comprimento de uma string:"
   ]
  },
  {
   "cell_type": "code",
   "execution_count": null,
   "metadata": {},
   "outputs": [],
   "source": [
    "s = 'pneumoultramicroscopicossilicovulcanoconiótico'\n",
    "len(s)"
   ]
  },
  {
   "cell_type": "markdown",
   "metadata": {},
   "source": [
    "Agora tente cocê. Declare alguns valores de strings e faça algumas operações de concatenação entre elas."
   ]
  },
  {
   "cell_type": "markdown",
   "metadata": {},
   "source": [
    "### Listas"
   ]
  },
  {
   "cell_type": "markdown",
   "metadata": {},
   "source": [
    "O Python conhece vários tipos de dados _compostos_, que são usados para agrupar outros valores. A mais versátil é a [*lista*](https://docs.python.org/3.5/library/stdtypes.html#typesseq-list), que pode ser escrita como uma sequência de valores separados por vírgula (itens) entre colchetes. As listas podem conter itens de tipos diferentes, mas geralmente todos os itens têm o mesmo tipo."
   ]
  },
  {
   "cell_type": "code",
   "execution_count": null,
   "metadata": {},
   "outputs": [],
   "source": [
    "squares = [1, 4, 9, 16, 25]\n",
    "squares"
   ]
  },
  {
   "cell_type": "markdown",
   "metadata": {},
   "source": [
    "Assim como as strings (e todos os outros tipos internos de [sequência](https://docs.python.org/3.5/glossary.html#term-sequence)), as listas podem ser indexadas e fatiadas:"
   ]
  },
  {
   "cell_type": "code",
   "execution_count": null,
   "metadata": {},
   "outputs": [],
   "source": [
    "squares[0]  # Indexar retorna o item naquela posição."
   ]
  },
  {
   "cell_type": "code",
   "execution_count": null,
   "metadata": {},
   "outputs": [],
   "source": [
    "squares[-1]"
   ]
  },
  {
   "cell_type": "code",
   "execution_count": null,
   "metadata": {},
   "outputs": [],
   "source": [
    "squares[-3:]  # Slicing returns a new list."
   ]
  },
  {
   "cell_type": "markdown",
   "metadata": {},
   "source": [
    "Todas as operações de fatia retornam uma nova lista contendo os elementos solicitados. Isso significa que a seguinte fatia retorna uma nova cópia (rasa) da lista:"
   ]
  },
  {
   "cell_type": "code",
   "execution_count": null,
   "metadata": {},
   "outputs": [],
   "source": [
    "squares[:]"
   ]
  },
  {
   "cell_type": "markdown",
   "metadata": {},
   "source": [
    "As listas também suportam concatenação com o operador `+`:"
   ]
  },
  {
   "cell_type": "code",
   "execution_count": null,
   "metadata": {},
   "outputs": [],
   "source": [
    "squares + [36, 49, 64, 81, 100]"
   ]
  },
  {
   "cell_type": "markdown",
   "metadata": {},
   "source": [
    "Diferentemente das strings, que são [imutáveis](https://docs.python.org/3.5/glossary.html#term-immutable), as listas são uma [mutáveis](https://docs.python.org/3.5/glossary .html#term-mutable), o que significa que você pode alterar qualquer valor na lista:"
   ]
  },
  {
   "cell_type": "code",
   "execution_count": null,
   "metadata": {},
   "outputs": [],
   "source": [
    "cubes = [1, 8, 27, 65, 125]  # Algo de errado não está certo por aqui ...\n",
    "4 ** 3  # o cubo de 4 é 64, não 65!"
   ]
  },
  {
   "cell_type": "code",
   "execution_count": null,
   "metadata": {},
   "outputs": [],
   "source": [
    "cubes[3] = 64  # Substitua o valor errado.\n",
    "cubes"
   ]
  },
  {
   "cell_type": "markdown",
   "metadata": {},
   "source": [
    "Use o método `append ()` da lista para adicionar novos itens ao final da lista:"
   ]
  },
  {
   "cell_type": "code",
   "execution_count": null,
   "metadata": {},
   "outputs": [],
   "source": [
    "cubes.append(216)  # Adiciona o cubo de 6 ...\n",
    "cubes.append(7 ** 3)  # e o cubo de 7.\n",
    "cubes"
   ]
  },
  {
   "cell_type": "markdown",
   "metadata": {},
   "source": [
    "Você pode até atribuir a fatias, que podem alterar o tamanho da lista ou limpá-la completamente:"
   ]
  },
  {
   "cell_type": "code",
   "execution_count": null,
   "metadata": {},
   "outputs": [],
   "source": [
    "letters = ['a', 'b', 'c', 'd', 'e', 'f', 'g']\n",
    "letters"
   ]
  },
  {
   "cell_type": "code",
   "execution_count": null,
   "metadata": {},
   "outputs": [],
   "source": [
    "# Substituindo alguns valores.\n",
    "letters[2:5] = ['C', 'D', 'E']\n",
    "letters"
   ]
  },
  {
   "cell_type": "code",
   "execution_count": null,
   "metadata": {},
   "outputs": [],
   "source": [
    "# Agora, removendo-os.\n",
    "letters[2:5] = []\n",
    "letters"
   ]
  },
  {
   "cell_type": "code",
   "execution_count": null,
   "metadata": {},
   "outputs": [],
   "source": [
    "# Limpando a lista, substituindo-a por uma lista vazia.\n",
    "letters[:] = []\n",
    "letters"
   ]
  },
  {
   "cell_type": "markdown",
   "metadata": {},
   "source": [
    "A função interna [`len ()`](https://docs.python.org/3.5/library/functions.html#len) também se aplica às listas:"
   ]
  },
  {
   "cell_type": "code",
   "execution_count": null,
   "metadata": {},
   "outputs": [],
   "source": [
    "letters = ['a', 'b', 'c', 'd']\n",
    "len(letters)"
   ]
  },
  {
   "cell_type": "markdown",
   "metadata": {},
   "source": [
    "Você pode aninhar listas, o que significa criar listas que contêm outras listas. Por exemplo:"
   ]
  },
  {
   "cell_type": "code",
   "execution_count": null,
   "metadata": {},
   "outputs": [],
   "source": [
    "a = ['a', 'b', 'c']\n",
    "n = [1, 2, 3]\n",
    "x = [a, n]\n",
    "x"
   ]
  },
  {
   "cell_type": "code",
   "execution_count": null,
   "metadata": {},
   "outputs": [],
   "source": [
    "x[0]"
   ]
  },
  {
   "cell_type": "code",
   "execution_count": null,
   "metadata": {},
   "outputs": [],
   "source": [
    "x[0][1]"
   ]
  },
  {
   "cell_type": "markdown",
   "metadata": {},
   "source": [
    "## Primeiros passos para a programação"
   ]
  },
  {
   "cell_type": "markdown",
   "metadata": {},
   "source": [
    "O Python, sendo usado por programadores profissionais e cientistas, entre outros, é capaz de tarefas muito mais complicadas do que adicionar números, brincar com strings e manipular listas. Por exemplo, podemos escrever uma sub-sequência inicial da série Fibonacci da seguinte maneira:"
   ]
  },
  {
   "cell_type": "code",
   "execution_count": null,
   "metadata": {},
   "outputs": [],
   "source": [
    "# Série de Fibonacci:\n",
    "# Um elemento é dado pela soma de seus antecessores.\n",
    "a, b = 0, 1\n",
    "\n",
    "while b < 10:    \n",
    "    print(b)\n",
    "    a, b = b, a+b"
   ]
  },
  {
   "cell_type": "markdown",
   "metadata": {},
   "source": [
    "Este exemplo apresenta vários novos recursos da linguagem Python:\n",
    "\n",
    "- A primeira linha contém uma *atribuição múltipla*: as variáveis `a` e` b` obtêm simultaneamente os novos valores 0 e 1. Na última linha, essa atribuição é usada novamente, demonstrando que as expressões do lado direito são todos avaliados primeiro antes de qualquer tarefa. As expressões do lado direito são avaliadas da esquerda para a direita.\n",
    "\n",
    "- O loop [`while`](https://docs.python.org/3.5/reference/compound_stmts.html#while) é executado enquanto a condição (aqui:`b < 10`) permanecer verdadeira. No Python, como no C, qualquer valor inteiro diferente de zero é verdadeiro; zero é falso. A condição também pode ser um valor de sequência ou lista, de fato qualquer sequência; qualquer coisa com comprimento diferente de zero é verdadeira, seqüências vazias são falsas. O teste usado no exemplo é uma comparação simples. Os operadores de comparação padrão são escritos da mesma forma que em C: `<` (menor que), `>` (maior que), `==` (igual a), `<=` (menor ou igual a),`>=` (maior ou igual a) e `!=`(não igual a).\n",
    "\n",
    "- Cada linha no *corpo* do loop é recuada: o recuo é a maneira de Python agrupar instruções. No prompt interativo, você deve digitar uma tabulação ou espaços para cada linha recuada. Na prática, você normalmente escreve código Python em um editor, como um caderno Jupyter, que fornece recuo automático.\n",
    "\n",
    "- A função [`print ()`](https://docs.python.org/3.5/library/functions.html#print) grava o valor do(s) argumento(s) fornecido(s). `print` difere de apenas escrever a expressão que você deseja escrever (como fizemos anteriormente nos exemplos da calculadora) na maneira como lida com vários argumentos, quantidades de ponto flutuante e seqüências de caracteres. As strings são impressas sem aspas e um espaço é inserido entre os itens, para que você possa formatar facilmente sua saída com facilidade. Por exemplo:"
   ]
  },
  {
   "cell_type": "code",
   "execution_count": null,
   "metadata": {},
   "outputs": [],
   "source": [
    "i = 256*256\n",
    "print('O valor de i é', i)"
   ]
  },
  {
   "cell_type": "markdown",
   "metadata": {},
   "source": [
    "O argumento com a palavra-chave `end` pode ser usado para evitar a nova linha após a saída ou finalizar a saída com uma sequência diferente:"
   ]
  },
  {
   "cell_type": "code",
   "execution_count": null,
   "metadata": {},
   "outputs": [],
   "source": [
    "a, b = 0, 1\n",
    "while b < 1000:\n",
    "    print(b, end=',')\n",
    "    a, b = b, a+b"
   ]
  },
  {
   "cell_type": "markdown",
   "metadata": {},
   "source": [
    "## Para saber mais\n",
    "\n",
    "Strings:\n",
    "\n",
    "- [Tipo de sequência de texto - str](https://docs.python.org/3.5/library/stdtypes.html#textseq): seqüências de caracteres são exemplos de *tipos de sequência* e suportam operações comuns suportadas por esses tipos.\n",
    "- [Métodos de seqüência de caracteres](https://docs.python.org/3.5/library/stdtypes.html#string-methods): as seqüências de caracteres suportam um grande número de métodos para transformações e pesquisas básicas.\n",
    "- [Format String Syntax](https://docs.python.org/3.5/library/string.html#formatstrings): informações sobre a formatação de strings com [str.format()](https://docs.python.org/3.5/library/string.html#formatures).\n",
    "- [Formatação de seqüência de caracteres no estilo `printf`](https://docs.python.org/3.5/library/stdtypes.html#old-string-formatting): As operações de formatação antigas chamadas quando strings e Unicode são o operando esquerdo do operador `%`."
   ]
  },
  {
   "cell_type": "markdown",
   "metadata": {},
   "source": [
    "# Exercício: \n",
    "\n",
    "Continue o tutorial em python.org, montando novos cadernos para os tópicos abaixo:\n",
    "\n",
    "Para ter acesso aos cadernos Jupyter, você pode instalar o pacote [Anaconda](https://www.anaconda.com/) em sua máquina, ou usar um ambiente online, como o [Binder](https://mybinder.org/) ou o [Google Colab](https://colab.research.google.com/). Lembre-se de fazer o download dos cadernos que produziu para entregá-los na atividade no [Classroom]() (válido para ambas as disciplinas).\n",
    "\n",
    "- [Mais ferramentas de controle de fluxo](https://docs.python.org/3.6/tutorial/controlflow.html)\n",
    "- [Estruturas de dados](https://docs.python.org/3.6/tutorial/datastructures.html)\n",
    "- [Módulos](https://docs.python.org/3.6/tutorial/modules.html)\n",
    "- [Entrada e saída](https://docs.python.org/3.6/tutorial/inputoutput.html)"
   ]
  }
 ],
 "metadata": {
  "kernelspec": {
   "display_name": "Python 3",
   "language": "python",
   "name": "python3"
  },
  "language_info": {
   "codemirror_mode": {
    "name": "ipython",
    "version": 3
   },
   "file_extension": ".py",
   "mimetype": "text/x-python",
   "name": "python",
   "nbconvert_exporter": "python",
   "pygments_lexer": "ipython3",
   "version": "3.7.3"
  }
 },
 "nbformat": 4,
 "nbformat_minor": 4
}
